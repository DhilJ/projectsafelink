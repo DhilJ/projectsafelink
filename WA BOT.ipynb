{
  "nbformat": 4,
  "nbformat_minor": 0,
  "metadata": {
    "colab": {
      "name": "Untitled1.ipynb",
      "provenance": [],
      "collapsed_sections": [],
      "authorship_tag": "ABX9TyOysYJSvw18MdMkcJxJbfBd",
      "include_colab_link": true
    },
    "kernelspec": {
      "name": "python3",
      "display_name": "Python 3"
    }
  },
  "cells": [
    {
      "cell_type": "markdown",
      "metadata": {
        "id": "view-in-github",
        "colab_type": "text"
      },
      "source": [
        "<a href=\"https://colab.research.google.com/github/DhilJ/projectsafelink/blob/master/WA%20BOT.ipynb\" target=\"_parent\"><img src=\"https://colab.research.google.com/assets/colab-badge.svg\" alt=\"Open In Colab\"/></a>"
      ]
    },
    {
      "cell_type": "code",
      "metadata": {
        "id": "Jc6RnpC10Rhv"
      },
      "source": [
        "!pip install selenium\n",
        "!apt-get update # to update ubuntu to correctly run apt install\n",
        "!apt install chromium-chromedriver\n",
        "!cp /usr/lib/chromium-browser/chromedriver /usr/bin\n",
        "import sys"
      ],
      "execution_count": null,
      "outputs": []
    },
    {
      "cell_type": "code",
      "metadata": {
        "id": "KijzppAShmDk"
      },
      "source": [
        "!git clone https://github.com/MhankBarBar/whatsapp-bot"
      ],
      "execution_count": null,
      "outputs": []
    },
    {
      "cell_type": "code",
      "metadata": {
        "id": "CypdV9j1hl4J"
      },
      "source": [
        "%cd /content/whatsapp-bot\n",
        "!npm install gify-cli -g\n",
        "!npm i"
      ],
      "execution_count": null,
      "outputs": []
    },
    {
      "cell_type": "code",
      "metadata": {
        "id": "Yi4qNWiQhiek"
      },
      "source": [
        "%cd /content/whatsapp-bot\n",
        "!unzip 1.zip"
      ],
      "execution_count": null,
      "outputs": []
    },
    {
      "cell_type": "code",
      "metadata": {
        "id": "gR_l8eOxiNWC"
      },
      "source": [
        "%cd /content/whatsapp-bot/lib\n",
        "!unzip 2.zip"
      ],
      "execution_count": null,
      "outputs": []
    },
    {
      "cell_type": "code",
      "metadata": {
        "id": "6PIfCAo5iNfw"
      },
      "source": [
        "%cd /content/whatsapp-bot/node_modules\n",
        "!unzip buset.zip"
      ],
      "execution_count": null,
      "outputs": []
    },
    {
      "cell_type": "code",
      "metadata": {
        "colab": {
          "base_uri": "https://localhost:8080/"
        },
        "id": "PnNVRl61ZEKO",
        "outputId": "5cad75c4-827d-4031-91e2-a359a40c9626"
      },
      "source": [
        "!pip install kora\n",
        "from kora import console\n",
        "console.start()"
      ],
      "execution_count": null,
      "outputs": [
        {
          "output_type": "stream",
          "text": [
            "Console URL: https://teleconsole.com/s/3448da6190744cb821fefacb9031c68c6082ae9c\n"
          ],
          "name": "stdout"
        }
      ]
    }
  ]
}