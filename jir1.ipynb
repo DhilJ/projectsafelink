{
  "nbformat": 4,
  "nbformat_minor": 0,
  "metadata": {
    "colab": {
      "name": "Untitled1.ipynb",
      "provenance": [],
      "collapsed_sections": [],
      "authorship_tag": "ABX9TyP/v3vlVU/X3k+jHXSY8IOX",
      "include_colab_link": true
    },
    "kernelspec": {
      "name": "python3",
      "display_name": "Python 3"
    }
  },
  "cells": [
    {
      "cell_type": "markdown",
      "metadata": {
        "id": "view-in-github",
        "colab_type": "text"
      },
      "source": [
        "<a href=\"https://colab.research.google.com/github/DhilJ/projectsafelink/blob/master/jir1.ipynb\" target=\"_parent\"><img src=\"https://colab.research.google.com/assets/colab-badge.svg\" alt=\"Open In Colab\"/></a>"
      ]
    },
    {
      "cell_type": "code",
      "metadata": {
        "colab": {
          "base_uri": "https://localhost:8080/"
        },
        "id": "PnNVRl61ZEKO",
        "outputId": "5cad75c4-827d-4031-91e2-a359a40c9626"
      },
      "source": [
        "\n",
        "from kora import console\n",
        "console.start()"
      ],
      "execution_count": 11,
      "outputs": [
        {
          "output_type": "stream",
          "text": [
            "Console URL: https://teleconsole.com/s/3448da6190744cb821fefacb9031c68c6082ae9c\n"
          ],
          "name": "stdout"
        }
      ]
    }
  ]
}